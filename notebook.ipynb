{
 "cells": [
  {
   "cell_type": "markdown",
   "metadata": {},
   "source": [
    "Preparing environment with necessary imports"
   ]
  },
  {
   "cell_type": "code",
   "execution_count": 1,
   "metadata": {},
   "outputs": [],
   "source": [
    "import pandas as pd\n",
    "%matplotlib inline"
   ]
  },
  {
   "cell_type": "markdown",
   "metadata": {},
   "source": [
    "Reading in already prepared csv file with data from https://wind-erleben.de <br>\n",
    "Additionally converting data to correct types and removing columns that are not used in model"
   ]
  },
  {
   "cell_type": "code",
   "execution_count": 2,
   "metadata": {},
   "outputs": [],
   "source": [
    "df = pd.read_csv('2018.csv', sep='\\t')\n",
    "df.measurement_date = pd.to_datetime(df.measurement_date)\n",
    "df.drop(columns=[\"pitch_degrees\", \"rotor_speed_rpm\", \"wind_direction_degrees\",\n",
    "                 \"rotation_gondola_degrees\", \"charging_station_w\",\n",
    "                 \"battery_drain_or_load_w\", \"state_of_charge_percent\", \"battery_voltage_v\",\n",
    "                 \"rlm_solar_kw\", \"slp_solar_kw\"], inplace=True)"
   ]
  },
  {
   "cell_type": "markdown",
   "metadata": {},
   "source": [
    "tidying up data, removing rows that do not really make sense"
   ]
  },
  {
   "cell_type": "code",
   "execution_count": 3,
   "metadata": {},
   "outputs": [],
   "source": [
    "df = df[abs((df.solar_generation_kw + df.wind_generation_kw + df.chp_kw) - df.total_production_kw) < 1]\n",
    "df = df[df.power_use_kw != 0]\n",
    "df = df[(df.total_production_kw + df.electricity_purchase_kw) - df.power_use_kw > -1]\n",
    "df = df[df.chp_kw < 1000]\n",
    "df = df[df.electricity_purchase_kw < 10000]"
   ]
  },
  {
   "cell_type": "markdown",
   "metadata": {},
   "source": [
    "Feature generation"
   ]
  },
  {
   "cell_type": "code",
   "execution_count": 4,
   "metadata": {},
   "outputs": [],
   "source": [
    "df['green_energy'] = (df.total_production_kw > df.power_use_kw).astype(int)\n",
    "df['chp_online'] = (df.chp_kw > 10).astype(int)\n",
    "df['weekday'] = df.measurement_date.dt.weekday\n",
    "df['time_of_day'] = df.measurement_date.dt.hour\n",
    "df['month'] = df.measurement_date.dt.month"
   ]
  },
  {
   "cell_type": "markdown",
   "metadata": {},
   "source": [
    "Creation of data used in model"
   ]
  },
  {
   "cell_type": "code",
   "execution_count": 5,
   "metadata": {},
   "outputs": [],
   "source": [
    "model_data = df[[\"time_of_day\", \"wind_speed_m_s\", \"chp_online\", \"green_energy\"]]"
   ]
  },
  {
   "cell_type": "code",
   "execution_count": 6,
   "metadata": {},
   "outputs": [
    {
     "data": {
      "text/html": [
       "<div>\n",
       "<style scoped>\n",
       "    .dataframe tbody tr th:only-of-type {\n",
       "        vertical-align: middle;\n",
       "    }\n",
       "\n",
       "    .dataframe tbody tr th {\n",
       "        vertical-align: top;\n",
       "    }\n",
       "\n",
       "    .dataframe thead th {\n",
       "        text-align: right;\n",
       "    }\n",
       "</style>\n",
       "<table border=\"1\" class=\"dataframe\">\n",
       "  <thead>\n",
       "    <tr style=\"text-align: right;\">\n",
       "      <th></th>\n",
       "      <th>time_of_day</th>\n",
       "      <th>wind_speed_m_s</th>\n",
       "      <th>chp_online</th>\n",
       "      <th>green_energy</th>\n",
       "    </tr>\n",
       "  </thead>\n",
       "  <tbody>\n",
       "    <tr>\n",
       "      <th>count</th>\n",
       "      <td>4479.00000</td>\n",
       "      <td>4479.000000</td>\n",
       "      <td>4479.000000</td>\n",
       "      <td>4479.000000</td>\n",
       "    </tr>\n",
       "    <tr>\n",
       "      <th>mean</th>\n",
       "      <td>11.54722</td>\n",
       "      <td>4.457357</td>\n",
       "      <td>0.326859</td>\n",
       "      <td>0.289797</td>\n",
       "    </tr>\n",
       "    <tr>\n",
       "      <th>std</th>\n",
       "      <td>6.87981</td>\n",
       "      <td>2.522608</td>\n",
       "      <td>0.469117</td>\n",
       "      <td>0.453719</td>\n",
       "    </tr>\n",
       "    <tr>\n",
       "      <th>min</th>\n",
       "      <td>0.00000</td>\n",
       "      <td>-0.100000</td>\n",
       "      <td>0.000000</td>\n",
       "      <td>0.000000</td>\n",
       "    </tr>\n",
       "    <tr>\n",
       "      <th>25%</th>\n",
       "      <td>6.00000</td>\n",
       "      <td>2.500000</td>\n",
       "      <td>0.000000</td>\n",
       "      <td>0.000000</td>\n",
       "    </tr>\n",
       "    <tr>\n",
       "      <th>50%</th>\n",
       "      <td>12.00000</td>\n",
       "      <td>4.200000</td>\n",
       "      <td>0.000000</td>\n",
       "      <td>0.000000</td>\n",
       "    </tr>\n",
       "    <tr>\n",
       "      <th>75%</th>\n",
       "      <td>17.00000</td>\n",
       "      <td>6.000000</td>\n",
       "      <td>1.000000</td>\n",
       "      <td>1.000000</td>\n",
       "    </tr>\n",
       "    <tr>\n",
       "      <th>max</th>\n",
       "      <td>23.00000</td>\n",
       "      <td>19.300000</td>\n",
       "      <td>1.000000</td>\n",
       "      <td>1.000000</td>\n",
       "    </tr>\n",
       "  </tbody>\n",
       "</table>\n",
       "</div>"
      ],
      "text/plain": [
       "       time_of_day  wind_speed_m_s   chp_online  green_energy\n",
       "count   4479.00000     4479.000000  4479.000000   4479.000000\n",
       "mean      11.54722        4.457357     0.326859      0.289797\n",
       "std        6.87981        2.522608     0.469117      0.453719\n",
       "min        0.00000       -0.100000     0.000000      0.000000\n",
       "25%        6.00000        2.500000     0.000000      0.000000\n",
       "50%       12.00000        4.200000     0.000000      0.000000\n",
       "75%       17.00000        6.000000     1.000000      1.000000\n",
       "max       23.00000       19.300000     1.000000      1.000000"
      ]
     },
     "execution_count": 6,
     "metadata": {},
     "output_type": "execute_result"
    }
   ],
   "source": [
    "model_data.describe()"
   ]
  }
 ],
 "metadata": {
  "kernelspec": {
   "display_name": "Python 3",
   "language": "python",
   "name": "python3"
  },
  "language_info": {
   "codemirror_mode": {
    "name": "ipython",
    "version": 3
   },
   "file_extension": ".py",
   "mimetype": "text/x-python",
   "name": "python",
   "nbconvert_exporter": "python",
   "pygments_lexer": "ipython3",
   "version": "3.6.4"
  }
 },
 "nbformat": 4,
 "nbformat_minor": 2
}
