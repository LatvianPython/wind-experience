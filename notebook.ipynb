{
 "cells": [
  {
   "cell_type": "markdown",
   "metadata": {},
   "source": [
    "Preparing environment with necessary imports"
   ]
  },
  {
   "cell_type": "code",
   "execution_count": 1,
   "metadata": {},
   "outputs": [],
   "source": [
    "import pandas as pd\n",
    "import numpy as np\n",
    "from pysolar.radiation import *\n",
    "from pysolar.solar import *\n",
    "from sklearn.model_selection import train_test_split\n",
    "from sklearn.ensemble import RandomForestRegressor\n",
    "from sklearn.metrics import explained_variance_score\n",
    "from sklearn.metrics import r2_score\n",
    "from sklearn.metrics import mean_absolute_error\n",
    "from sklearn.metrics import mean_squared_error\n",
    "from sklearn import preprocessing\n",
    "%matplotlib inline"
   ]
  },
  {
   "cell_type": "markdown",
   "metadata": {},
   "source": [
    "Reading in already prepared csv file with data from https://wind-erleben.de <br>\n",
    "Additionally converting data to correct types and removing columns that are not used in model"
   ]
  },
  {
   "cell_type": "code",
   "execution_count": 2,
   "metadata": {},
   "outputs": [],
   "source": [
    "df = pd.read_csv('2018.csv', sep='\\t')\n",
    "df.measurement_date = pd.to_datetime(df.measurement_date).dt.tz_localize('Europe/Berlin', ambiguous=True)\n",
    "df.drop(columns=[\"pitch_degrees\", \"rotor_speed_rpm\", \"wind_direction_degrees\",\n",
    "                 \"rotation_gondola_degrees\", \"charging_station_w\",\n",
    "                 \"battery_drain_or_load_w\", \"state_of_charge_percent\", \"battery_voltage_v\",\n",
    "                 \"rlm_solar_kw\", \"slp_solar_kw\"], inplace=True)"
   ]
  },
  {
   "cell_type": "markdown",
   "metadata": {},
   "source": [
    "Tidying up data, removing rows that do not really make sense"
   ]
  },
  {
   "cell_type": "code",
   "execution_count": 3,
   "metadata": {},
   "outputs": [],
   "source": [
    "df = df[abs((df.solar_generation_kw + df.wind_generation_kw + df.chp_kw) - df.total_production_kw) < 1]\n",
    "df = df[df.power_use_kw != 0]\n",
    "df = df[(df.total_production_kw + df.electricity_purchase_kw) - df.power_use_kw > -1]\n",
    "df = df[df.chp_kw < 1000]\n",
    "df = df[df.electricity_purchase_kw < 10000]"
   ]
  },
  {
   "cell_type": "markdown",
   "metadata": {},
   "source": [
    "Feature generation"
   ]
  },
  {
   "cell_type": "code",
   "execution_count": 4,
   "metadata": {},
   "outputs": [],
   "source": [
    "df['angle'] = [get_altitude(49.5450, 10.2338, df.measurement_date[i]) for i in df.index] \n",
    "df['radiation'] = [get_radiation_direct(df.measurement_date[i], df.angle[i]) for i in df.index]\n",
    "df['green_energy'] = (df.total_production_kw > df.power_use_kw).astype(int)\n",
    "df['chp_online'] = (df.chp_kw > 10).astype(int)\n",
    "df['weekday'] = df.measurement_date.dt.weekday\n",
    "df['time_of_day'] = df.measurement_date.dt.hour\n",
    "df['month'] = df.measurement_date.dt.month"
   ]
  },
  {
   "cell_type": "markdown",
   "metadata": {},
   "source": [
    "Creation of data used in model"
   ]
  },
  {
   "cell_type": "code",
   "execution_count": 5,
   "metadata": {},
   "outputs": [],
   "source": [
    "features = df[[\"time_of_day\", \"weekday\", \"wind_speed_m_s\", \"chp_online\", \"green_energy\", \"angle\", \"radiation\"]]\n",
    "\n",
    "labels = features['green_energy']\n",
    "\n",
    "features = features.drop(columns=['green_energy'])"
   ]
  },
  {
   "cell_type": "markdown",
   "metadata": {},
   "source": [
    "Seperating data into training dataset and testing dataset"
   ]
  },
  {
   "cell_type": "code",
   "execution_count": 6,
   "metadata": {},
   "outputs": [],
   "source": [
    "_ = train_test_split(features, labels, test_size=0.25, random_state=1337)\n",
    "train_features, test_features, train_labels, test_labels = _"
   ]
  },
  {
   "cell_type": "markdown",
   "metadata": {},
   "source": [
    "Model generation and prediction creation"
   ]
  },
  {
   "cell_type": "code",
   "execution_count": 7,
   "metadata": {},
   "outputs": [],
   "source": [
    "rf = RandomForestRegressor(n_estimators=1000, random_state=1337)\n",
    "\n",
    "rf.fit(train_features, train_labels)\n",
    "\n",
    "predictions = rf.predict(test_features)"
   ]
  },
  {
   "cell_type": "markdown",
   "metadata": {},
   "source": [
    "<h1>Final results"
   ]
  },
  {
   "cell_type": "code",
   "execution_count": 8,
   "metadata": {
    "scrolled": false
   },
   "outputs": [
    {
     "name": "stdout",
     "output_type": "stream",
     "text": [
      "explained_variance_score: 0.623502\n",
      "r2_score:                 0.623341\n",
      "mean_absolute_error:      0.144735\n",
      "mean_squared_error:       0.075548\n",
      "\n",
      "Variable: wind_speed_m_s       Importance: 0.38\n",
      "Variable: radiation            Importance: 0.37\n",
      "Variable: angle                Importance: 0.11\n",
      "Variable: weekday              Importance: 0.08\n",
      "Variable: time_of_day          Importance: 0.05\n",
      "Variable: chp_online           Importance: 0.01\n"
     ]
    }
   ],
   "source": [
    "print('explained_variance_score:', round(explained_variance_score(test_labels, predictions), 6))\n",
    "print('r2_score:                ', round(r2_score(test_labels, predictions), 6))\n",
    "print('mean_absolute_error:     ', round(mean_absolute_error(test_labels, predictions), 6))\n",
    "print('mean_squared_error:      ', round(mean_squared_error(test_labels, predictions), 6))\n",
    "print()\n",
    "importances = list(rf.feature_importances_)\n",
    "feature_importances = [(feature, round(importance, 2)) for feature, importance in zip(features.columns, importances)]\n",
    "feature_importances = sorted(feature_importances, key = lambda x: x[1], reverse = True)\n",
    "[print('Variable: {:20} Importance: {}'.format(*pair)) for pair in feature_importances];"
   ]
  }
 ],
 "metadata": {
  "kernelspec": {
   "display_name": "Python 3",
   "language": "python",
   "name": "python3"
  },
  "language_info": {
   "codemirror_mode": {
    "name": "ipython",
    "version": 3
   },
   "file_extension": ".py",
   "mimetype": "text/x-python",
   "name": "python",
   "nbconvert_exporter": "python",
   "pygments_lexer": "ipython3",
   "version": "3.6.4"
  }
 },
 "nbformat": 4,
 "nbformat_minor": 2
}
