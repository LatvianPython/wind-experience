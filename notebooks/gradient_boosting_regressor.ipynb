{
 "cells": [
  {
   "cell_type": "code",
   "execution_count": 1,
   "metadata": {},
   "outputs": [],
   "source": [
    "from sklearn.model_selection import train_test_split\n",
    "from sklearn.ensemble import GradientBoostingRegressor\n",
    "from utility import read_model_data\n",
    "from utility import output_score\n",
    "from utility import output_feature_importance"
   ]
  },
  {
   "cell_type": "markdown",
   "metadata": {},
   "source": [
    "Possibility to predict for different values"
   ]
  },
  {
   "cell_type": "code",
   "execution_count": 2,
   "metadata": {},
   "outputs": [],
   "source": [
    "labels, features = read_model_data('features.csv', 'green_energy')"
   ]
  },
  {
   "cell_type": "markdown",
   "metadata": {},
   "source": [
    "Seperating data into training dataset and testing dataset"
   ]
  },
  {
   "cell_type": "code",
   "execution_count": 3,
   "metadata": {},
   "outputs": [],
   "source": [
    "_ = train_test_split(features, labels, test_size=0.25, random_state=1337)\n",
    "train_features, test_features, train_labels, test_labels = _"
   ]
  },
  {
   "cell_type": "markdown",
   "metadata": {},
   "source": [
    "Model generation and prediction creation"
   ]
  },
  {
   "cell_type": "code",
   "execution_count": 4,
   "metadata": {},
   "outputs": [],
   "source": [
    "kwargs = {'n_estimators': 140, 'max_depth': 7}\n",
    "\n",
    "rf = GradientBoostingRegressor(random_state=1337, **kwargs)\n",
    "\n",
    "rf.fit(train_features, train_labels)\n",
    "\n",
    "predictions = rf.predict(test_features)"
   ]
  },
  {
   "cell_type": "markdown",
   "metadata": {},
   "source": [
    "<h1>Final results"
   ]
  },
  {
   "cell_type": "code",
   "execution_count": 5,
   "metadata": {},
   "outputs": [
    {
     "name": "stdout",
     "output_type": "stream",
     "text": [
      "explained_variance_score: 0.717836\n",
      "r2_score:                 0.717583\n",
      "mean_squared_error:       0.084411\n",
      "mean_absolute_error:      0.20485\n",
      "\n",
      "Variable: solar_radiation      Importance: 0.29\n",
      "Variable: lagged_wind_speed    Importance: 0.2\n",
      "Variable: humidity             Importance: 0.11\n",
      "Variable: weekday_x            Importance: 0.06\n",
      "Variable: wind_speed           Importance: 0.06\n",
      "Variable: time_of_day_x        Importance: 0.05\n",
      "Variable: pressure             Importance: 0.05\n",
      "Variable: month_x              Importance: 0.04\n",
      "Variable: angle_of_sun         Importance: 0.04\n",
      "Variable: time_of_day_y        Importance: 0.03\n",
      "Variable: weekday_y            Importance: 0.03\n",
      "Variable: month_y              Importance: 0.02\n",
      "Variable: chp_online           Importance: 0.01\n"
     ]
    }
   ],
   "source": [
    "output_score(test_labels, predictions)\n",
    "output_feature_importance(rf, features)"
   ]
  }
 ],
 "metadata": {
  "kernelspec": {
   "display_name": "Python 3",
   "language": "python",
   "name": "python3"
  },
  "language_info": {
   "codemirror_mode": {
    "name": "ipython",
    "version": 3
   },
   "file_extension": ".py",
   "mimetype": "text/x-python",
   "name": "python",
   "nbconvert_exporter": "python",
   "pygments_lexer": "ipython3",
   "version": "3.6.4"
  }
 },
 "nbformat": 4,
 "nbformat_minor": 2
}
