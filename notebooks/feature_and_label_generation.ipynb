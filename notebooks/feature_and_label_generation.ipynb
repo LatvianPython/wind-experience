{
 "cells": [
  {
   "cell_type": "markdown",
   "metadata": {},
   "source": [
    "Preparing environment with necessary imports"
   ]
  },
  {
   "cell_type": "code",
   "execution_count": 1,
   "metadata": {},
   "outputs": [],
   "source": [
    "import pandas as pd\n",
    "import numpy as np\n",
    "from pysolar.radiation import *\n",
    "from pysolar.solar import *"
   ]
  },
  {
   "cell_type": "markdown",
   "metadata": {},
   "source": [
    "Reading in already prepared csv file with data from https://wind-erleben.de <br>\n",
    "Additionally converting data to correct types and removing columns that are not used in model"
   ]
  },
  {
   "cell_type": "code",
   "execution_count": 2,
   "metadata": {},
   "outputs": [],
   "source": [
    "df = pd.read_csv('2018.csv', sep='\\t')\n",
    "df.measurement_date = pd.to_datetime(df.measurement_date).dt.tz_localize('Europe/Berlin', ambiguous=True)\n",
    "df.drop(columns=[\"pitch_degrees\", \"rotor_speed_rpm\", \"wind_direction_degrees\",\n",
    "                 \"rotation_gondola_degrees\", \"charging_station_w\",\n",
    "                 \"battery_drain_or_load_w\", \"state_of_charge_percent\", \"battery_voltage_v\",\n",
    "                 \"rlm_solar_kw\", \"slp_solar_kw\"], inplace=True)"
   ]
  },
  {
   "cell_type": "markdown",
   "metadata": {},
   "source": [
    "Reading in the weather data and merging with main csv"
   ]
  },
  {
   "cell_type": "code",
   "execution_count": 3,
   "metadata": {},
   "outputs": [],
   "source": [
    "weather = pd.read_csv('full_weather_data.csv', sep='\\t')\n",
    "weather.time = pd.to_datetime(weather.time)\n",
    "weather.time = weather.time.dt.tz_localize('Europe/Berlin', ambiguous='infer')\n",
    "\n",
    "df = pd.merge_asof(df.sort_values('measurement_date'), weather, left_on=['measurement_date'], right_on=['time'])"
   ]
  },
  {
   "cell_type": "markdown",
   "metadata": {},
   "source": [
    "Tidying up data, removing rows that do not really make sense"
   ]
  },
  {
   "cell_type": "code",
   "execution_count": 4,
   "metadata": {},
   "outputs": [],
   "source": [
    "df = df[abs((df.solar_generation_kw + df.wind_generation_kw + df.chp_kw) - df.total_production_kw) < 1]\n",
    "df = df[df.power_use_kw != 0]\n",
    "df = df[(df.total_production_kw + df.electricity_purchase_kw) - df.power_use_kw > -1]\n",
    "df = df[df.chp_kw < 1000]\n",
    "df = df[df.electricity_purchase_kw < 10000]\n",
    "df = df.dropna()"
   ]
  },
  {
   "cell_type": "markdown",
   "metadata": {},
   "source": [
    "Important constants for feature generation"
   ]
  },
  {
   "cell_type": "code",
   "execution_count": 5,
   "metadata": {},
   "outputs": [],
   "source": [
    "important_weather = ['Passing clouds.', 'Partly sunny.', 'Scattered clouds.', \n",
    "                     'Broken clouds.', 'Fog.', 'Cool.', 'Partly cloudy.', \n",
    "                     'Mild.', 'Overcast.', 'Mostly cloudy.']\n",
    "uffenheim_lat = 49.5450 \n",
    "uffenheim_lng = 10.2338"
   ]
  },
  {
   "cell_type": "markdown",
   "metadata": {},
   "source": [
    "Feature generation"
   ]
  },
  {
   "cell_type": "code",
   "execution_count": 6,
   "metadata": {},
   "outputs": [],
   "source": [
    "df['angle_of_sun'] = [max(get_altitude(uffenheim_lat, uffenheim_lng, df.measurement_date[i]), 0) for i in df.index] \n",
    "df['solar_radiation'] = [get_radiation_direct(df.measurement_date[i], df.angle_of_sun[i]) for i in df.index]\n",
    "df['chp_online'] = (df.chp_kw > 10).astype(int)\n",
    "df['weekday'] = df.measurement_date.dt.weekday\n",
    "df['time_of_day'] = df.measurement_date.dt.hour\n",
    "df['month'] = df.measurement_date.dt.month\n",
    "\n",
    "# left in, but not used due to not impacting model that well\n",
    "# df['filtered_weather'] = df.apply(lambda x: x.weather if x.weather in important_weather else 'Other', axis=1)\n",
    "\n",
    "df['time_of_day_x'] = np.sin(2. * np.pi * df.time_of_day / 24.)\n",
    "df['time_of_day_y'] = np.cos(2. * np.pi * df.time_of_day / 24.)\n",
    "\n",
    "df['weekday_x'] = np.sin(2. * np.pi * df.weekday / 7.)\n",
    "df['weekday_y'] = np.cos(2. * np.pi * df.weekday / 7.)\n",
    "\n",
    "df['month_x'] = np.sin(2. * np.pi * df.month / 12.)\n",
    "df['month_y'] = np.cos(2. * np.pi * df.month / 12.)\n",
    "\n",
    "# uncomment to enable cheat mode\n",
    "# wind_speed_m_s is as reported by the wind turbine, instead from weather prediction\n",
    "# df.wind_speed = df.wind_speed_m_s\n",
    "\n",
    "df['lagged_wind_speed'] = df['wind_speed'].shift(-1)\n",
    "\n",
    "df['green_energy'] = df.total_production_kw / df.power_use_kw\n",
    "\n",
    "df = df.dropna()"
   ]
  },
  {
   "cell_type": "markdown",
   "metadata": {},
   "source": [
    "Creation of data used in model and outputting as csv"
   ]
  },
  {
   "cell_type": "code",
   "execution_count": 7,
   "metadata": {
    "scrolled": false
   },
   "outputs": [],
   "source": [
    "potential_labels = ['solar_generation_kw', 'power_use_kw', 'wind_generation_kw', 'green_energy']\n",
    "\n",
    "label = 'green_energy'\n",
    "\n",
    "features = df[['solar_generation_kw', 'power_use_kw', 'wind_generation_kw', 'green_energy',\n",
    "               'time_of_day_x', 'time_of_day_y', 'weekday_x', 'weekday_y', 'month_x', 'month_y',\n",
    "               'lagged_wind_speed', 'chp_online', 'wind_speed',\n",
    "               'angle_of_sun', 'solar_radiation', 'humidity', 'pressure']].copy()\n",
    "\n",
    "# using weather data does not work out well, leaving this in if ever reconsider the use of it\n",
    "# features = pd.merge(features, pd.get_dummies(df.filtered_weather), left_index=True, right_index=True)\n",
    "\n",
    "features.to_csv('features.csv')"
   ]
  }
 ],
 "metadata": {
  "kernelspec": {
   "display_name": "Python 3",
   "language": "python",
   "name": "python3"
  },
  "language_info": {
   "codemirror_mode": {
    "name": "ipython",
    "version": 3
   },
   "file_extension": ".py",
   "mimetype": "text/x-python",
   "name": "python",
   "nbconvert_exporter": "python",
   "pygments_lexer": "ipython3",
   "version": "3.6.4"
  }
 },
 "nbformat": 4,
 "nbformat_minor": 2
}
