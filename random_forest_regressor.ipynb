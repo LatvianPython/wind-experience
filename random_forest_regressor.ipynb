{
 "cells": [
  {
   "cell_type": "code",
   "execution_count": 1,
   "metadata": {},
   "outputs": [],
   "source": [
    "import pandas as pd\n",
    "import numpy as np\n",
    "from sklearn.model_selection import train_test_split\n",
    "from sklearn.ensemble import RandomForestRegressor\n",
    "from sklearn.metrics import explained_variance_score\n",
    "from sklearn.metrics import r2_score\n",
    "from sklearn.metrics import mean_absolute_error\n",
    "from sklearn.metrics import mean_squared_error"
   ]
  },
  {
   "cell_type": "markdown",
   "metadata": {},
   "source": [
    "Possibility to predict for different values"
   ]
  },
  {
   "cell_type": "code",
   "execution_count": 2,
   "metadata": {},
   "outputs": [],
   "source": [
    "potential_labels = ['solar_generation_kw', 'power_use_kw', 'wind_generation_kw', 'green_energy']\n",
    "\n",
    "label = 'green_energy'\n",
    "\n",
    "features = pd.read_csv('features.csv', index_col=0, float_precision='high')\n",
    "features.drop(columns=[item for item in potential_labels if item != label], inplace=True)\n",
    "\n",
    "labels = features[label]\n",
    "features.drop(columns=[label], inplace=True)"
   ]
  },
  {
   "cell_type": "markdown",
   "metadata": {},
   "source": [
    "Seperating data into training dataset and testing dataset"
   ]
  },
  {
   "cell_type": "code",
   "execution_count": 3,
   "metadata": {},
   "outputs": [],
   "source": [
    "_ = train_test_split(features, labels, test_size=0.25, random_state=1337)\n",
    "train_features, test_features, train_labels, test_labels = _"
   ]
  },
  {
   "cell_type": "markdown",
   "metadata": {},
   "source": [
    "Model generation and prediction creation"
   ]
  },
  {
   "cell_type": "code",
   "execution_count": 4,
   "metadata": {},
   "outputs": [],
   "source": [
    "rf = RandomForestRegressor(n_estimators=400, max_depth=None, bootstrap=False,\n",
    "                           max_features='sqrt', n_jobs=-1, random_state=1337,\n",
    "                           min_samples_leaf=1, min_samples_split=2)\n",
    "\n",
    "rf.fit(train_features, train_labels)\n",
    "\n",
    "predictions = rf.predict(test_features)"
   ]
  },
  {
   "cell_type": "markdown",
   "metadata": {},
   "source": [
    "<h1>Final results"
   ]
  },
  {
   "cell_type": "code",
   "execution_count": 5,
   "metadata": {},
   "outputs": [
    {
     "name": "stdout",
     "output_type": "stream",
     "text": [
      "explained_variance_score: 0.718118\n",
      "r2_score:                 0.717005\n",
      "mean_squared_error:       0.084584\n",
      "mean_absolute_error:      0.207803\n",
      "\n",
      "Variable: lagged_wind_speed    Importance: 0.16\n",
      "Variable: solar_radiation      Importance: 0.13\n",
      "Variable: wind_speed           Importance: 0.11\n",
      "Variable: angle_of_sun         Importance: 0.11\n",
      "Variable: humidity             Importance: 0.1\n",
      "Variable: time_of_day_y        Importance: 0.08\n",
      "Variable: weekday_x            Importance: 0.06\n",
      "Variable: pressure             Importance: 0.06\n",
      "Variable: time_of_day_x        Importance: 0.05\n",
      "Variable: month_x              Importance: 0.05\n",
      "Variable: weekday_y            Importance: 0.03\n",
      "Variable: month_y              Importance: 0.03\n",
      "Variable: chp_online           Importance: 0.01\n"
     ]
    }
   ],
   "source": [
    "def print_results(labels, predictions):\n",
    "    print('explained_variance_score:', round(explained_variance_score(labels, predictions), 6))\n",
    "    print('r2_score:                ', round(r2_score(labels, predictions), 6))\n",
    "    print('mean_squared_error:      ', round(mean_squared_error(labels, predictions), 6))\n",
    "    print('mean_absolute_error:     ', round(mean_absolute_error(labels, predictions), 6))\n",
    "    print()\n",
    "\n",
    "print_results(np.asarray(test_labels, dtype='float64'), np.asarray(predictions, dtype='float64'))\n",
    "\n",
    "importances = list(rf.feature_importances_)\n",
    "feature_importances = [(feature, round(importance, 2)) for feature, importance in zip(features.columns, importances)]\n",
    "feature_importances = sorted(feature_importances, key = lambda x: x[1], reverse = True)\n",
    "[print('Variable: {:20} Importance: {}'.format(*pair)) for pair in feature_importances];"
   ]
  }
 ],
 "metadata": {
  "kernelspec": {
   "display_name": "Python 3",
   "language": "python",
   "name": "python3"
  },
  "language_info": {
   "codemirror_mode": {
    "name": "ipython",
    "version": 3
   },
   "file_extension": ".py",
   "mimetype": "text/x-python",
   "name": "python",
   "nbconvert_exporter": "python",
   "pygments_lexer": "ipython3",
   "version": "3.6.4"
  }
 },
 "nbformat": 4,
 "nbformat_minor": 2
}
